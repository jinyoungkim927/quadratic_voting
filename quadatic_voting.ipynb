{
 "cells": [
  {
   "cell_type": "markdown",
   "metadata": {},
   "source": [
    "# Quadratic Voting "
   ]
  },
  {
   "cell_type": "markdown",
   "metadata": {},
   "source": [
    "**Date:** *22 October 2024*  \n",
    "**Author:** *Jinyoung Kim*"
   ]
  },
  {
   "cell_type": "markdown",
   "metadata": {},
   "source": [
    "**What is it:** It is a system designed to allow voters not only to express their preferences but also to indicate how strongly they feel about a particular issue. Unlike traditional voting where each person gets one vote per issue, QV allows participants to cast multiple votes on an issue where the cost of each additional vote rises quadratically. This mechanism aims to balance majority rule with the intensity of preferences, allowing for more nuanced decision-making."
   ]
  },
  {
   "cell_type": "markdown",
   "metadata": {},
   "source": [
    "\n",
    "1. **Toy Example**:\n",
    "    - Imagine a group of 5 people deciding on 3 proposals with 10 credits each.\n",
    "    - In traditional voting, each person can give one vote per proposal.\n",
    "    - In QV, they can spend multiple votes but must decide how much to spend, considering the quadratic cost."
   ]
  },
  {
   "cell_type": "code",
   "execution_count": 13,
   "metadata": {},
   "outputs": [
    {
     "name": "stdout",
     "output_type": "stream",
     "text": [
      "Underlying Preferences:\n",
      "         Issue 1  Issue 2\n",
      "Voter 1       10        1\n",
      "Voter 2        1        2\n",
      "Voter 3        1        2\n",
      "Voter 4        1        2\n",
      "Voter 5        1        2\n",
      "\n",
      "Normal Voting Ballots:\n",
      "         Issue 1  Issue 2\n",
      "Voter 1        1        0\n",
      "Voter 2        0        1\n",
      "Voter 3        0        1\n",
      "Voter 4        0        1\n",
      "Voter 5        0        1\n",
      "\n",
      "Quadratic Voting Ballots:\n",
      "         Issue 1  Issue 2\n",
      "Voter 1     10.0      0.0\n",
      "Voter 2      6.0      8.0\n",
      "Voter 3      6.0      8.0\n",
      "Voter 4      6.0      8.0\n",
      "Voter 5      6.0      8.0\n"
     ]
    },
    {
     "data": {
      "image/png": "[encoded data removed]",
      "text/plain": [
       "<Figure size 864x432 with 2 Axes>"
      ]
     },
     "metadata": {},
     "output_type": "display_data"
    }
   ],
   "source": [
    "import numpy as np\n",
    "import matplotlib.pyplot as plt\n",
    "import pandas as pd\n",
    "\n",
    "# Toy example setup\n",
    "n_voters = 5\n",
    "n_issues = 2\n",
    "initial_credits = 100\n",
    "np.random.seed(0)  # For reproducibility\n",
    "\n",
    "# Generate underlying preferences\n",
    "preferences = np.array([\n",
    "    [10, 1],  # Voter 1 cares deeply about Issue 1\n",
    "    [1, 2],   # Other voters mildly prefer Issue 2\n",
    "    [1, 2],\n",
    "    [1, 2],\n",
    "    [1, 2]\n",
    "])\n",
    "\n",
    "# Normal voting: 1 vote for the most preferred issue\n",
    "votes_normal = np.zeros((n_voters, n_issues), dtype=int)\n",
    "for voter in range(n_voters):\n",
    "    most_preferred = np.argmax(preferences[voter])\n",
    "    votes_normal[voter, most_preferred] = 1\n",
    "\n",
    "# Quadratic voting\n",
    "votes_qv = np.zeros((n_voters, n_issues))\n",
    "votes_qv[0] = [10, 0]  # Allocating 8 votes to Issue 1 and 6 votes to Issue 2 for Voter 1\n",
    "for voter in range(1, n_voters):\n",
    "    votes_qv[voter] = [6, 8]  # Other voters mildly prefer Issue 2\n",
    "\n",
    "# Create DataFrames for visualization\n",
    "df_preferences = pd.DataFrame(preferences, columns=[f'Issue {i+1}' for i in range(n_issues)], index=[f'Voter {i+1}' for i in range(n_voters)])\n",
    "df_normal = pd.DataFrame(votes_normal, columns=[f'Issue {i+1}' for i in range(n_issues)], index=[f'Voter {i+1}' for i in range(n_voters)])\n",
    "df_qv = pd.DataFrame(votes_qv, columns=[f'Issue {i+1}' for i in range(n_issues)], index=[f'Voter {i+1}' for i in range(n_voters)])\n",
    "\n",
    "# Display the results\n",
    "print(\"Underlying Preferences:\")\n",
    "print(df_preferences)\n",
    "print(\"\\nNormal Voting Ballots:\")\n",
    "print(df_normal)\n",
    "print(\"\\nQuadratic Voting Ballots:\")\n",
    "print(df_qv)\n",
    "\n",
    "# Visualizing voting results\n",
    "total_votes_normal = votes_normal.sum(axis=0)\n",
    "total_votes_qv = votes_qv.sum(axis=0)\n",
    "\n",
    "labels = [f\"Issue {i+1}\" for i in range(n_issues)]\n",
    "colors = ['#ff9999', '#66b3ff']\n",
    "\n",
    "fig, (ax1, ax2) = plt.subplots(1, 2, figsize=(12, 6))\n",
    "\n",
    "# Quadratic Voting Pie Chart\n",
    "ax1.pie(total_votes_qv, labels=labels, colors=colors, autopct='%1.1f%%', startangle=90)\n",
    "ax1.set_title('Quadratic Voting Results')\n",
    "\n",
    "# Normal Voting Pie Chart\n",
    "ax2.pie(total_votes_normal, labels=labels, colors=colors, autopct='%1.1f%%', startangle=90)\n",
    "ax2.set_title('Normal Voting Results')\n",
    "\n",
    "plt.tight_layout()\n",
    "plt.show()\n"
   ]
  },
  {
   "cell_type": "markdown",
   "metadata": {},
   "source": [
    "\n",
    "2. **Federal Election Example**:\n",
    "    - Simulate a voting system where citizens vote on multiple national issues (e.g., healthcare, defense, education).\n",
    "    - In traditional voting, citizens cast a single vote per issue.\n",
    "    - In QV, citizens allocate their credits to the issues they care most about, with the quadratic cost adjusting their influence."
   ]
  },
  {
   "cell_type": "code",
   "execution_count": 2,
   "metadata": {},
   "outputs": [
    {
     "name": "stdout",
     "output_type": "stream",
     "text": [
      "Issue 1: Total votes = 189.0\n",
      "Issue 2: Total votes = 174.0\n",
      "Issue 3: Total votes = 117.0\n",
      "Issue 4: Total votes = 79.0\n",
      "Issue 5: Total votes = 73.0\n"
     ]
    }
   ],
   "source": [
    "# Federal election setup\n",
    "n_citizens = 100  # Number of voters\n",
    "n_issues = 5  # Number of issues\n",
    "initial_credits = 20  # Credits for each citizen\n",
    "votes = np.zeros((n_citizens, n_issues))\n",
    "\n",
    "# Simulate voting based on citizen preferences\n",
    "for citizen in range(n_citizens):\n",
    "    remaining_credits = initial_credits\n",
    "    for issue in range(n_issues):\n",
    "        max_votes = int(np.sqrt(remaining_credits))\n",
    "        if max_votes > 0:\n",
    "            vote_cast = np.random.randint(0, max_votes + 1)\n",
    "            votes[citizen, issue] = vote_cast\n",
    "            remaining_credits -= costs(vote_cast)\n",
    "\n",
    "# Display results\n",
    "display_results(votes)\n"
   ]
  },
  {
   "cell_type": "markdown",
   "metadata": {},
   "source": [
    "\n",
    "3. **Portfolio Planning Example**:\n",
    "    - In project portfolio planning, QV could help decide which projects to prioritize based on stakeholder preferences.\n",
    "    - Each stakeholder is given a certain number of voting credits and casts votes based on the strength of their preferences for each project."
   ]
  },
  {
   "cell_type": "code",
   "execution_count": 4,
   "metadata": {},
   "outputs": [
    {
     "name": "stdout",
     "output_type": "stream",
     "text": [
      "Project 1: Total votes = 7.0\n",
      "Project 2: Total votes = 16.0\n",
      "Project 3: Total votes = 17.0\n",
      "Project 4: Total votes = 14.0\n"
     ]
    },
    {
     "data": {
      "image/png": "[encoded data removed]",
      "text/plain": [
       "<Figure size 432x288 with 1 Axes>"
      ]
     },
     "metadata": {
      "needs_background": "light"
     },
     "output_type": "display_data"
    }
   ],
   "source": [
    "# Portfolio planning setup\n",
    "n_team_members = 10\n",
    "n_projects = 4\n",
    "initial_credits = 15\n",
    "votes = np.zeros((n_team_members, n_projects))\n",
    "\n",
    "# Simulate voting on projects\n",
    "for member in range(n_team_members):\n",
    "    remaining_credits = initial_credits\n",
    "    for project in range(n_projects):\n",
    "        max_votes = int(np.sqrt(remaining_credits))\n",
    "        if max_votes > 0:\n",
    "            vote_cast = np.random.randint(0, max_votes + 1)\n",
    "            votes[member, project] = vote_cast\n",
    "            remaining_credits -= costs(vote_cast)\n",
    "\n",
    "# Display results\n",
    "def display_results(votes):\n",
    "    total_votes = np.sum(votes, axis=0)\n",
    "    for project in range(n_projects):\n",
    "        print(f\"Project {project + 1}: Total votes = {total_votes[project]}\")\n",
    "\n",
    "display_results(votes)\n",
    "\n",
    "# Visualize results\n",
    "labels = [f\"Project {i+1}\" for i in range(n_projects)]\n",
    "total_votes = np.sum(votes, axis=0)\n",
    "\n",
    "plt.bar(labels, total_votes)\n",
    "plt.xlabel('Projects')\n",
    "plt.ylabel('Total Votes')\n",
    "plt.title('Total Votes for Each Project in Portfolio Planning')\n",
    "plt.show()\n"
   ]
  }
 ],
 "metadata": {
  "kernelspec": {
   "display_name": "base",
   "language": "python",
   "name": "python3"
  },
  "language_info": {
   "codemirror_mode": {
    "name": "ipython",
    "version": 3
   },
   "file_extension": ".py",
   "mimetype": "text/x-python",
   "name": "python",
   "nbconvert_exporter": "python",
   "pygments_lexer": "ipython3",
   "version": "3.8.5"
  }
 },
 "nbformat": 4,
 "nbformat_minor": 2
}
